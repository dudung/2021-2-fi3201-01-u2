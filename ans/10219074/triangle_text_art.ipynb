{
 "cells": [
  {
   "cell_type": "markdown",
   "id": "4d87db66",
   "metadata": {},
   "source": [
    "# triangle_text_art\n",
    "Jalankan kode pada sel-sel di bawah ini sehingga identitas Anda tertampilkan dengan benar dan gambar segitiga dengan huruf-huruf dapat tertampilkan."
   ]
  },
  {
   "cell_type": "code",
   "execution_count": 1,
   "id": "2faa4bb4",
   "metadata": {},
   "outputs": [
    {
     "name": "stdout",
     "output_type": "stream",
     "text": [
      "10219074 Muhammad Farhan https://github.com/chromaaxion\n"
     ]
    }
   ],
   "source": [
    "from IPython.core.display import HTML\n",
    "HTML(\"<script>Jupyter.notebook.kernel.restart()</script>\")\n",
    "\n",
    "import sys, os\n",
    "sys.path.insert(1, os.path.join(sys.path[0], '../..'))\n",
    "\n",
    "from src.student import Students as stu\n",
    "nim = 10219074\n",
    "print(nim, end=' ')\n",
    "print(stu[nim]['name'], end=' ')\n",
    "print(\"https://github.com/\", stu[nim]['github'], sep='')"
   ]
  },
  {
   "cell_type": "markdown",
   "id": "146b5055",
   "metadata": {},
   "source": [
    "Hasil yang diharapkan\n",
    "\n",
    "0123456789<br>\n",
    "012345678<br>\n",
    "01234567<br>\n",
    "0123456<br>\n",
    "012345<br>\n",
    "0123<br>\n",
    "012<br>\n",
    "01<br>\n",
    "0\n",
    "\n",
    "Untuk mendapatkan hasil seperti di atas, koreksi hanya **baris 1** kode berikut ini."
   ]
  },
  {
   "cell_type": "code",
   "execution_count": 2,
   "id": "d408a21b",
   "metadata": {},
   "outputs": [
    {
     "name": "stdout",
     "output_type": "stream",
     "text": [
      "0123456789\n",
      "012345678\n",
      "01234567\n",
      "0123456\n",
      "012345\n",
      "01234\n",
      "0123\n",
      "012\n",
      "01\n",
      "0\n"
     ]
    }
   ],
   "source": [
    "for row in range(10, 0, -1):\n",
    "    for col in range(0, row):\n",
    "        print(col, end='')\n",
    "    print()"
   ]
  }
 ],
 "metadata": {
  "kernelspec": {
   "display_name": "Python 3 (ipykernel)",
   "language": "python",
   "name": "python3"
  },
  "language_info": {
   "codemirror_mode": {
    "name": "ipython",
    "version": 3
   },
   "file_extension": ".py",
   "mimetype": "text/x-python",
   "name": "python",
   "nbconvert_exporter": "python",
   "pygments_lexer": "ipython3",
   "version": "3.9.7"
  }
 },
 "nbformat": 4,
 "nbformat_minor": 5
}
