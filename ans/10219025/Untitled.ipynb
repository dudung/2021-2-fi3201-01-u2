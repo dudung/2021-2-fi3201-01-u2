{
 "cells": [
  {
   "cell_type": "code",
   "execution_count": 1,
   "id": "19c79ddf",
   "metadata": {},
   "outputs": [
    {
     "name": "stdout",
     "output_type": "stream",
     "text": [
      "Requirement already satisfied: nb-js-diagrammers in c:\\users\\user\\appdata\\local\\programs\\python\\python310\\lib\\site-packages (0.0.7)\n",
      "Requirement already satisfied: pyflowchart in c:\\users\\user\\appdata\\local\\programs\\python\\python310\\lib\\site-packages (from nb-js-diagrammers) (0.2.3)\n",
      "Requirement already satisfied: chardet in c:\\users\\user\\appdata\\local\\programs\\python\\python310\\lib\\site-packages (from pyflowchart->nb-js-diagrammers) (4.0.0)\n",
      "Requirement already satisfied: astunparse in c:\\users\\user\\appdata\\local\\programs\\python\\python310\\lib\\site-packages (from pyflowchart->nb-js-diagrammers) (1.6.3)\n",
      "Requirement already satisfied: six<2.0,>=1.6.1 in c:\\users\\user\\appdata\\local\\programs\\python\\python310\\lib\\site-packages (from astunparse->pyflowchart->nb-js-diagrammers) (1.16.0)\n",
      "Requirement already satisfied: wheel<1.0,>=0.23.0 in c:\\users\\user\\appdata\\local\\programs\\python\\python310\\lib\\site-packages (from astunparse->pyflowchart->nb-js-diagrammers) (0.37.1)\n",
      "Note: you may need to restart the kernel to use updated packages.\n"
     ]
    }
   ],
   "source": [
    "pip install --upgrade nb-js-diagrammers"
   ]
  },
  {
   "cell_type": "code",
   "execution_count": null,
   "id": "393a97c7",
   "metadata": {},
   "outputs": [],
   "source": []
  },
  {
   "cell_type": "code",
   "execution_count": null,
   "id": "bbf5579a",
   "metadata": {},
   "outputs": [],
   "source": []
  }
 ],
 "metadata": {
  "kernelspec": {
   "display_name": "Python 3 (ipykernel)",
   "language": "python",
   "name": "python3"
  },
  "language_info": {
   "codemirror_mode": {
    "name": "ipython",
    "version": 3
   },
   "file_extension": ".py",
   "mimetype": "text/x-python",
   "name": "python",
   "nbconvert_exporter": "python",
   "pygments_lexer": "ipython3",
   "version": "3.10.4"
  }
 },
 "nbformat": 4,
 "nbformat_minor": 5
}
