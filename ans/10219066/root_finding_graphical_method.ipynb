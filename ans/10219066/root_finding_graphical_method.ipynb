{
 "cells": [
  {
   "cell_type": "markdown",
   "id": "cca11c7c",
   "metadata": {},
   "source": [
    "# root_finding_graphical_method\n",
    "Jalankan kode pada sel-sel di bawah ini sehingga identitas Anda tertampilkan dengan benar dan perkirakan posisi akar dari grafik fungsi yang dibuat."
   ]
  },
  {
   "cell_type": "markdown",
   "id": "6366ac0c",
   "metadata": {},
   "source": [
    "## graphical method\n",
    "Ulas kembali secara singkat metode grafik dalam memperkirakan posisi akar suatu fungsi dengan menonton video berikut."
   ]
  },
  {
   "cell_type": "code",
   "execution_count": null,
   "id": "bfbbc22f",
   "metadata": {},
   "outputs": [],
   "source": [
    "from IPython.display import YouTubeVideo\n",
    "YouTubeVideo('9xRkoYbXOaU', width=600, height=340)"
   ]
  },
  {
   "cell_type": "markdown",
   "id": "b33b9bfe",
   "metadata": {},
   "source": [
    "Bila video tidak muncul dapat dilihat di https://www.youtube.com/watch?v=9xRkoYbXOaU"
   ]
  },
  {
   "cell_type": "markdown",
   "id": "264a9720",
   "metadata": {},
   "source": [
    "## identity\n",
    "Koreksi kode pada sel berikut sehingga identitas Anda benar tertampilkan."
   ]
  },
  {
   "cell_type": "code",
   "execution_count": 1,
   "id": "4e2d555c",
   "metadata": {},
   "outputs": [
    {
     "name": "stdout",
     "output_type": "stream",
     "text": [
      "10219066 Marshanda Tiana Sarjito https://github.com/MarshandaTiana\n"
     ]
    }
   ],
   "source": [
    "from IPython.core.display import HTML\n",
    "HTML(\"<script>Jupyter.notebook.kernel.restart()</script>\")\n",
    "\n",
    "import sys, os\n",
    "sys.path.insert(1, os.path.join(sys.path[0], '../..'))\n",
    "\n",
    "from src.student import Students as stu\n",
    "nim = 10219066\n",
    "print(nim, end=' ')\n",
    "print(stu[nim]['name'], end=' ')\n",
    "print(\"https://github.com/\", stu[nim]['github'], sep='')"
   ]
  },
  {
   "cell_type": "markdown",
   "id": "b4d42d14",
   "metadata": {},
   "source": [
    "## function\n",
    "Sebuah fungsi matematika, misalnya saja\n",
    "\n",
    "<a name='eqn1'></a>\n",
    "\\begin{equation}\\tag{1}\n",
    "f(x) = \\left[ x - 2.4 e^{-(x - 2.7)} \\right] \\sin \\tfrac23 \\pi (x-1.35)\n",
    "\\end{equation}\n",
    "\n",
    "dapat digambarkan dengan dalam rentang $x \\in [x_{\\rm beg}, x_{\\rm end}]$."
   ]
  },
  {
   "cell_type": "code",
   "execution_count": 4,
   "id": "91d18261",
   "metadata": {},
   "outputs": [],
   "source": [
    "import math\n",
    "\n",
    "# define a function of x\n",
    "def f(x):\n",
    "    y1 = (x -  2.4 * math.exp(-(x - 2.7)))\n",
    "    y2 = math.sin(2 * math.pi * (x - 1.35) / 3)\n",
    "    y = y1 * y2\n",
    "    return y"
   ]
  },
  {
   "cell_type": "code",
   "execution_count": 5,
   "id": "50160c26",
   "metadata": {},
   "outputs": [],
   "source": [
    "# create data\n",
    "xbeg = 0\n",
    "xend = 10\n",
    "N = 100\n",
    "dx = (xend - xbeg) / N\n",
    "\n",
    "xx = []\n",
    "yy = []\n",
    "\n",
    "for i in range(0, N + 1):\n",
    "    x = xbeg + i * dx\n",
    "    y = f(x)\n",
    "    \n",
    "    xx.append(x)\n",
    "    yy.append(y)\n"
   ]
  },
  {
   "cell_type": "code",
   "execution_count": 6,
   "id": "86684f45",
   "metadata": {},
   "outputs": [
    {
     "data": {
      "image/png": "[encoded data removed]",
      "text/plain": [
       "<Figure size 432x288 with 1 Axes>"
      ]
     },
     "metadata": {
      "needs_background": "light"
     },
     "output_type": "display_data"
    }
   ],
   "source": [
    "import matplotlib.pyplot as plt\n",
    "\n",
    "# plot data\n",
    "plt.ion()\n",
    "fig, ax = plt.subplots()\n",
    "ax.set_xlabel(\"$x$\")\n",
    "ax.set_ylabel(\"$y$\")\n",
    "plt.plot(xx, yy)\n",
    "\n",
    "# draw horizontal line\n",
    "line = plt.Line2D((xbeg, xend), (0, 0), color='#aaa', lw=1, ls='dashed')\n",
    "plt.gca().add_line(line)\n",
    "\n",
    "# show plot result\n",
    "plt.show()"
   ]
  },
  {
   "cell_type": "markdown",
   "id": "b48cf370",
   "metadata": {},
   "source": [
    "## a root\n",
    "Dengan memilih rentang antara 5 dan 6, perkirakan posisi akarnya dan tunjukkan melalui penggambaran sebuah lingkaran pada posisi tersebut."
   ]
  },
  {
   "cell_type": "code",
   "execution_count": 7,
   "id": "967cc9a0",
   "metadata": {},
   "outputs": [
    {
     "data": {
      "image/png": "[encoded data removed]",
      "text/plain": [
       "<Figure size 432x288 with 1 Axes>"
      ]
     },
     "metadata": {
      "needs_background": "light"
     },
     "output_type": "display_data"
    },
    {
     "name": "stdout",
     "output_type": "stream",
     "text": [
      "xroot = 5.5\n"
     ]
    }
   ],
   "source": [
    "import matplotlib.pyplot as plt\n",
    "from matplotlib.patches import Ellipse\n",
    "\n",
    "# plot data\n",
    "plt.ion()\n",
    "fig, ax = plt.subplots()\n",
    "ax.set_xlabel(\"$x$\")\n",
    "ax.set_ylabel(\"$y$\")\n",
    "plt.plot(xx, yy)\n",
    "\n",
    "# draw horizontal line\n",
    "line = plt.Line2D((xbeg, xend), (0, 0), color='#aaa', lw=1, ls='dashed')\n",
    "plt.gca().add_line(line)\n",
    "\n",
    "# zoom\n",
    "plt.xlim([3, 7])\n",
    "plt.ylim([-7, 7])\n",
    "\n",
    "\n",
    "# draw a cricle\n",
    "xroot = 5.5\n",
    "point = Ellipse(\n",
    "    xy=(xroot, 3.55), width=0.1, height=0.6, \n",
    "    edgecolor='r', fc='None', lw=1\n",
    ")\n",
    "plt.gca().add_patch(point)\n",
    "\n",
    "# show plot result\n",
    "plt.show()\n",
    "\n",
    "print(\"xroot = \", xroot, sep='')"
   ]
  },
  {
   "cell_type": "markdown",
   "id": "6a0dc96a",
   "metadata": {},
   "source": [
    "Modifikasi kode di atas sehingga lingkaran merah tepat menunjukkan akar yang terletak antara 5 dan 6."
   ]
  }
 ],
 "metadata": {
  "kernelspec": {
   "display_name": "Python 3 (ipykernel)",
   "language": "python",
   "name": "python3"
  },
  "language_info": {
   "codemirror_mode": {
    "name": "ipython",
    "version": 3
   },
   "file_extension": ".py",
   "mimetype": "text/x-python",
   "name": "python",
   "nbconvert_exporter": "python",
   "pygments_lexer": "ipython3",
   "version": "3.9.7"
  }
 },
 "nbformat": 4,
 "nbformat_minor": 5
}
