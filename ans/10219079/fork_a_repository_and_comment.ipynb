{
 "cells": [
  {
   "cell_type": "markdown",
   "metadata": {},
   "source": [
    "# fork_a_repository_and_comment\n",
    "Jalankan kode pada sel-sel di bawah ini sehingga identitas Anda tertampilkan dengan benar dan lakukan fork repositori yang diminta dan berikan komentar pada issue yang ditentukan."
   ]
  },
  {
   "cell_type": "markdown",
   "metadata": {},
   "source": [
    "## identity\n",
    "Koreksi kode pada sel berikut sehingga identitas Anda benar tertampilkan."
   ]
  },
  {
   "cell_type": "code",
   "execution_count": 1,
   "metadata": {},
   "outputs": [
    {
     "name": "stdout",
     "output_type": "stream",
     "text": [
      "10219079 Adam Raihan Ramadhani https://github.com/4damrr\n"
     ]
    }
   ],
   "source": [
    "from IPython.core.display import HTML\n",
    "HTML(\"<script>Jupyter.notebook.kernel.restart()</script>\")\n",
    "\n",
    "import sys, os\n",
    "sys.path.insert(1, os.path.join(sys.path[0], '../..'))\n",
    "\n",
    "from src.student import Students as stu\n",
    "nim = 10219079\n",
    "print(nim, end=' ')\n",
    "print(stu[nim]['name'], end=' ')\n",
    "print(\"https://github.com/\", stu[nim]['github'], sep='')"
   ]
  },
  {
   "cell_type": "markdown",
   "metadata": {},
   "source": [
    "## fork\n",
    "Lakukan fork untuk repositori berikut\n",
    "+ https://github.com/dudung/2021-2-fi3201-01-u2 (untuk soal ujian)\n",
    "+ https://github.com/dudung/python-jupyter-notebook (untuk latihan menulis komentar)"
   ]
  },
  {
   "cell_type": "markdown",
   "metadata": {},
   "source": [
    "### question\n",
    "1. Tuliskan link kedua repositori yang telah Anda fork tersebut. <br>\n",
    "   **Jawab**: \n",
    "   + [4damrr/2021-2-fi3201-01-u2](https://github.com/4damrr/2021-2-fi3201-01-u2)\n",
    "   + [4damrr/python-jupyter-notebook](https://github.com/4damrr/python-jupyter-notebook)"
   ]
  },
  {
   "cell_type": "markdown",
   "metadata": {},
   "source": [
    "## comment\n",
    "Pada repositori [python-jupyter-notebook](https://github.com/dudung/python-jupyter-notebook) berikan komentar pada [issue 1](https://github.com/dudung/python-jupyter-notebook/issues/1).\n",
    "\n",
    "![](repository_comment.png)\n",
    "\n",
    "Terlah terdapat dua pengguna, [feeskoum](https://github.com/feeskoum) dan [botkoum](https://github.com/botkoum), yang memberikan usul dan komentar.\n",
    "\n",
    "Tautan komentar keduanya (dapat diperoleh dari ikon ... pada kotak komentar yang Anda isi) adalah\n",
    "+ feeskoum: https://github.com/dudung/python-jupyter-notebook/issues/1#issuecomment-1114231812\n",
    "+ botkuom: https://github.com/dudung/python-jupyter-notebook/issues/1#issuecomment-1114235685\n",
    "\n",
    "Berikut adalah contoh mendapatkan tautan komentar untuk botkuom (Copy link setelah ... diklik dengan tetikus).\n",
    "![](comment_link.png)\n"
   ]
  },
  {
   "cell_type": "markdown",
   "metadata": {},
   "source": [
    "### question\n",
    "1. Tuliskan link komentar yang Anda berikan <br>\n",
    "   **Jawab**: [komentar adam](https://github.com/dudung/python-jupyter-notebook/issues/1#issuecomment-1121112430)"
   ]
  },
  {
   "cell_type": "code",
   "execution_count": null,
   "metadata": {},
   "outputs": [],
   "source": []
  }
 ],
 "metadata": {
  "kernelspec": {
   "display_name": "Python 3",
   "language": "python",
   "name": "python3"
  },
  "language_info": {
   "codemirror_mode": {
    "name": "ipython",
    "version": 3
   },
   "file_extension": ".py",
   "mimetype": "text/x-python",
   "name": "python",
   "nbconvert_exporter": "python",
   "pygments_lexer": "ipython3",
   "version": "3.7.0b4"
  }
 },
 "nbformat": 4,
 "nbformat_minor": 5
}
