{
 "cells": [
  {
   "cell_type": "markdown",
   "metadata": {},
   "source": [
    "# list_sorting_bubble_sort\n",
    "Jalankan kode pada sel-sel di bawah ini sehingga identitas Anda tertampilkan dengan benar dan urutkan list yang diberikan dari kecil ke besar atau sebaliknya, serta jawab pertanyaan yang ada."
   ]
  },
  {
   "cell_type": "markdown",
   "metadata": {},
   "source": [
    "## identity\n",
    "Koreksi kode pada sel berikut sehingga identitas Anda benar tertampilkan."
   ]
  },
  {
   "cell_type": "code",
   "execution_count": 1,
   "metadata": {},
   "outputs": [
    {
     "name": "stdout",
     "output_type": "stream",
     "text": [
      "10219079 Adam Raihan Ramadhani https://github.com/4damrr\n"
     ]
    }
   ],
   "source": [
    "from IPython.core.display import HTML\n",
    "HTML(\"<script>Jupyter.notebook.kernel.restart()</script>\")\n",
    "\n",
    "import sys, os\n",
    "sys.path.insert(1, os.path.join(sys.path[0], '../..'))\n",
    "\n",
    "from src.student import Students as stu\n",
    "nim = 10219079\n",
    "print(nim, end=' ')\n",
    "print(stu[nim]['name'], end=' ')\n",
    "print(\"https://github.com/\", stu[nim]['github'], sep='')"
   ]
  },
  {
   "cell_type": "markdown",
   "metadata": {},
   "source": [
    "## bubble sort\n",
    "Ulas kembali algoritma bubble sort dengan melihat video berikut."
   ]
  },
  {
   "cell_type": "code",
   "execution_count": 2,
   "metadata": {},
   "outputs": [
    {
     "data": {
      "text/html": [
       "\n",
       "        <iframe\n",
       "            width=\"600\"\n",
       "            height=\"340\"\n",
       "            src=\"https://www.youtube.com/embed/nmhjrI-aW5o\"\n",
       "            frameborder=\"0\"\n",
       "            allowfullscreen\n",
       "        ></iframe>\n",
       "        "
      ],
      "text/plain": [
       "<IPython.lib.display.YouTubeVideo at 0x1decec5da58>"
      ]
     },
     "execution_count": 2,
     "metadata": {},
     "output_type": "execute_result"
    }
   ],
   "source": [
    "from IPython.display import YouTubeVideo\n",
    "YouTubeVideo('nmhjrI-aW5o', width=600, height=340)"
   ]
  },
  {
   "cell_type": "markdown",
   "metadata": {},
   "source": [
    "Atau bila tidak tertampilkan kunjungi https://www.youtube.com/watch?v=nmhjrI-aW5o"
   ]
  },
  {
   "cell_type": "markdown",
   "metadata": {},
   "source": [
    "## example\n",
    "Perhatikan contoh berikut dan hasil yang diberikannya.\n",
    "\n",
    "Kode <a name='cod1'>1</a>. Mengurutkan bilangan dari kecil ke besar dengan bubble sort."
   ]
  },
  {
   "cell_type": "code",
   "execution_count": 5,
   "metadata": {},
   "outputs": [
    {
     "name": "stdout",
     "output_type": "stream",
     "text": [
      "original =  [8, 4, 6, 2, 3, 7, 9, 10, 5, 1]\n",
      "sorted =  [1, 2, 3, 4, 5, 6, 7, 8, 9, 10]\n"
     ]
    }
   ],
   "source": [
    "# define a list\n",
    "x = [8, 4, 6, 2, 3, 7, 9, 10, 5, 1]\n",
    "\n",
    "# copy to another list\n",
    "y = x[:]\n",
    "\n",
    "# get length of the list\n",
    "N = len(y)\n",
    "\n",
    "# perform bubble sort\n",
    "for i in range(N-1):\n",
    "    for j in range(i, N):\n",
    "        if y[i] > y[j]:\n",
    "            y[i], y[j] = y[j], y[i]\n",
    "\n",
    "# display original and sorted lists\n",
    "print(\"original = \", x)\n",
    "print(\"sorted = \", y)"
   ]
  },
  {
   "cell_type": "markdown",
   "metadata": {},
   "source": [
    "### questions\n",
    "1. Mengapa digunakan `y = x[:]` dan tidak cukup `y = x`? <br>\n",
    "   **Jawab**: Digunakan `y = x[:]` untuk melakukan return pada list x, sedangkan `y = x` akan menduplikasi list x ke dalam list y \n",
    "2. Apakah arti dari `y[i], y[j] = y[j], y[i]`? <br>\n",
    "   **Jawab**: Menukar elemen `y[i]` dengan `y[j]` ketika `y[i] > y[j]`\n",
    "3. Mengapa pada iterasi pertama dengan `for` digunakan `range(N-1)`. sedangkan pada iterasi keduanya digunakan `range(i, N)`? <br>\n",
    "   **Jawab**: Pada _loop_ pertama, akan di-_scan list_ dari elemen 0 sampai N, sedangkan pada _loop_ kedua akan di-_scan list_ dari elemen i sampai N. Hal ini dilakukan agar tidak terjadi _double scan_ pada list yang akan diurutkan."
   ]
  },
  {
   "cell_type": "markdown",
   "metadata": {},
   "source": [
    "## another example\n",
    "Ingin dihasilkan\n",
    "\n",
    "```\n",
    "original =  [8, 4, 6, 2, 3, 7, 9, 10, 5, 1]\n",
    "sorted =  [10, 9, 8, 7, 6, 5, 4, 3, 2, 1]\n",
    "```\n",
    "\n",
    "dengan kode berikut ini (yang masih belum benar).\n",
    "\n",
    "Kode <a name='cod2'>2</a>. Mengurutkan bilangan dari besar ke kecil dengan bubble sort."
   ]
  },
  {
   "cell_type": "code",
   "execution_count": 6,
   "metadata": {},
   "outputs": [
    {
     "name": "stdout",
     "output_type": "stream",
     "text": [
      "original =  [8, 4, 6, 2, 3, 7, 9, 10, 5, 1]\n",
      "sorted =  [10, 9, 8, 7, 6, 5, 4, 3, 2, 1]\n"
     ]
    }
   ],
   "source": [
    "# define a list\n",
    "x = [8, 4, 6, 2, 3, 7, 9, 10, 5, 1]\n",
    "\n",
    "# copy to another list\n",
    "y = x[:]\n",
    "\n",
    "# get length of the list\n",
    "N = len(y)\n",
    "\n",
    "# perform bubble sort\n",
    "for i in range(N-1):\n",
    "    for j in range(i, N):\n",
    "        if y[i] < y[j]:\n",
    "            y[i], y[j] = y[j], y[i]\n",
    "\n",
    "# display original and sorted lists\n",
    "print(\"original = \", x)\n",
    "print(\"sorted = \", y)"
   ]
  },
  {
   "cell_type": "markdown",
   "metadata": {},
   "source": [
    "Modifikasi Kode [2](#cod2) sehingga diperoleh hasil yang diminta, yaitu urutan bilangan dari besar ke kecil.\n",
    "\n",
    "### questions\n",
    "1. Apa yang perlu dimodifikasi? Baris ke berapa? (Toggle Line Numbers dengan 'Shitf-L') pada command mode) <br>\n",
    "   **Jawab**: Yang perlu dimodifikasi adalah tanda pertidaksamaan `>` menjadi `<` pada baris ke 13.\n",
    "2. Berapa karakter atau huruf yang perlu diubah pada Kode [2](#cod2)? <br>\n",
    "   **Jawab**: 1 karakter."
   ]
  },
  {
   "cell_type": "code",
   "execution_count": null,
   "metadata": {},
   "outputs": [],
   "source": []
  }
 ],
 "metadata": {
  "kernelspec": {
   "display_name": "Python 3",
   "language": "python",
   "name": "python3"
  },
  "language_info": {
   "codemirror_mode": {
    "name": "ipython",
    "version": 3
   },
   "file_extension": ".py",
   "mimetype": "text/x-python",
   "name": "python",
   "nbconvert_exporter": "python",
   "pygments_lexer": "ipython3",
   "version": "3.7.0b4"
  }
 },
 "nbformat": 4,
 "nbformat_minor": 5
}
