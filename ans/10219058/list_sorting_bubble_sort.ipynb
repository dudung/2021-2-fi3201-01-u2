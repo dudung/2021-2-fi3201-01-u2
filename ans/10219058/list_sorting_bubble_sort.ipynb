{
 "cells": [
  {
   "cell_type": "markdown",
   "id": "cca11c7c",
   "metadata": {},
   "source": [
    "# list_sorting_bubble_sort\n",
    "Jalankan kode pada sel-sel di bawah ini sehingga identitas Anda tertampilkan dengan benar dan urutkan list yang diberikan dari kecil ke besar atau sebaliknya, serta jawab pertanyaan yang ada."
   ]
  },
  {
   "cell_type": "markdown",
   "id": "264a9720",
   "metadata": {},
   "source": [
    "## identity\n",
    "Koreksi kode pada sel berikut sehingga identitas Anda benar tertampilkan."
   ]
  },
  {
   "cell_type": "code",
   "execution_count": 1,
   "id": "4e2d555c",
   "metadata": {},
   "outputs": [
    {
     "name": "stdout",
     "output_type": "stream",
     "text": [
      "10219058 Isep Robi Awaludin https://github.com/iseprobi\n"
     ]
    }
   ],
   "source": [
    "from IPython.core.display import HTML\n",
    "HTML(\"<script>Jupyter.notebook.kernel.restart()</script>\")\n",
    "\n",
    "import sys, os\n",
    "sys.path.insert(1, os.path.join(sys.path[0], '../..'))\n",
    "\n",
    "from src.student import Students as stu\n",
    "nim = 10219058\n",
    "print(nim, end=' ')\n",
    "print(stu[nim]['name'], end=' ')\n",
    "print(\"https://github.com/\", stu[nim]['github'], sep='')"
   ]
  },
  {
   "cell_type": "markdown",
   "id": "b4d42d14",
   "metadata": {},
   "source": [
    "## bubble sort\n",
    "Ulas kembali algoritma bubble sort dengan melihat video berikut."
   ]
  },
  {
   "cell_type": "code",
   "execution_count": 2,
   "id": "d55cfc02",
   "metadata": {},
   "outputs": [
    {
     "data": {
      "image/jpeg": "[encoded data removed]",
      "text/html": [
       "\n",
       "        <iframe\n",
       "            width=\"600\"\n",
       "            height=\"340\"\n",
       "            src=\"https://www.youtube.com/embed/nmhjrI-aW5o\"\n",
       "            frameborder=\"0\"\n",
       "            allowfullscreen\n",
       "            \n",
       "        ></iframe>\n",
       "        "
      ],
      "text/plain": [
       "<IPython.lib.display.YouTubeVideo at 0x259f9937ca0>"
      ]
     },
     "execution_count": 2,
     "metadata": {},
     "output_type": "execute_result"
    }
   ],
   "source": [
    "from IPython.display import YouTubeVideo\n",
    "YouTubeVideo('nmhjrI-aW5o', width=600, height=340)"
   ]
  },
  {
   "cell_type": "markdown",
   "id": "a84a9e02",
   "metadata": {},
   "source": [
    "Atau bila tidak tertampilkan kunjungi https://www.youtube.com/watch?v=nmhjrI-aW5o"
   ]
  },
  {
   "cell_type": "markdown",
   "id": "1a6be198",
   "metadata": {},
   "source": [
    "## example\n",
    "Perhatikan contoh berikut dan hasil yang diberikannya.\n",
    "\n",
    "Kode <a name='cod1'>1</a>. Mengurutkan bilangan dari kecil ke besar dengan bubble sort."
   ]
  },
  {
   "cell_type": "code",
   "execution_count": 3,
   "id": "c62f4035",
   "metadata": {},
   "outputs": [
    {
     "name": "stdout",
     "output_type": "stream",
     "text": [
      "original =  [8, 4, 6, 2, 3, 7, 9, 10, 5, 1]\n",
      "sorted =  [1, 2, 3, 4, 5, 6, 7, 8, 9, 10]\n"
     ]
    }
   ],
   "source": [
    "# define a list\n",
    "x = [8, 4, 6, 2, 3, 7, 9, 10, 5, 1]\n",
    "\n",
    "# copy to another list\n",
    "y = x[:]\n",
    "\n",
    "# get length of the list\n",
    "N = len(y)\n",
    "\n",
    "# perform bubble sort\n",
    "for i in range(N-1):\n",
    "    for j in range(i, N):\n",
    "        if y[i] > y[j]:\n",
    "            y[i], y[j] = y[j], y[i]\n",
    "\n",
    "# display original and sorted lists\n",
    "print(\"original = \", x)\n",
    "print(\"sorted = \", y)"
   ]
  },
  {
   "cell_type": "markdown",
   "id": "2686c255",
   "metadata": {},
   "source": [
    "### questions\n",
    "1. Mengapa digunakan `y = x[:]` dan tidak cukup `y = x`? <br>\n",
    "   **Jawab**: karena digunakan untuk membuat list baru yang nanti nya akan di jalankan loop dengan `for` dan nilai atau urutan dari list x tidak akan berubah\n",
    "2. Apakah arti dari `y[i], y[j] = y[j], y[i]`? <br>\n",
    "   **Jawab**: untuk menukar tempat antara `y[i]` dan `y[j]`\n",
    "3. Mengapa pada iterasi pertama dengan `for` digunakan `range(N-1)`. sedangkan pada iterasi keduanya digunakan `range(i, N)`? <br>\n",
    "   **Jawab**: karena pada iterasi pertama `range(N-1)` digunakan untuk menjalankan loop dari nilai N menuju nol bertujuan agar mempersempit range jika susunan nilai angka sudah tepat yang dimulai urutan paling besar/jauh. sedangkan pada iterasi ke dua `range(i, N)` digunakan untuk menjalankan loop dari i menuju N bertujuan agar mengecek satu per satu angka dengan urutan nilai yang benar."
   ]
  },
  {
   "cell_type": "markdown",
   "id": "07641b92",
   "metadata": {},
   "source": [
    "## another example\n",
    "Ingin dihasilkan\n",
    "\n",
    "```\n",
    "original =  [8, 4, 6, 2, 3, 7, 9, 10, 5, 1]\n",
    "sorted =  [10, 9, 8, 7, 6, 5, 4, 3, 2, 1]\n",
    "```\n",
    "\n",
    "dengan kode berikut ini (yang masih belum benar).\n",
    "\n",
    "Kode <a name='cod2'>2</a>. Mengurutkan bilangan dari besar ke kecil dengan bubble sort."
   ]
  },
  {
   "cell_type": "code",
   "execution_count": 9,
   "id": "2131d166",
   "metadata": {},
   "outputs": [
    {
     "name": "stdout",
     "output_type": "stream",
     "text": [
      "original =  [8, 4, 6, 2, 3, 7, 9, 10, 5, 1]\n",
      "sorted =  [10, 9, 8, 7, 6, 5, 4, 3, 2, 1]\n"
     ]
    }
   ],
   "source": [
    "# define a list\n",
    "x = [8, 4, 6, 2, 3, 7, 9, 10, 5, 1]\n",
    "\n",
    "# copy to another list\n",
    "y = x[:]\n",
    "\n",
    "# get length of the list\n",
    "N = len(y)\n",
    "\n",
    "# perform bubble sort\n",
    "for i in range(N-1):\n",
    "    for j in range(i, N):\n",
    "        if y[i] < y[j]:\n",
    "            y[i], y[j] = y[j], y[i]\n",
    "\n",
    "# display original and sorted lists\n",
    "print(\"original = \", x)\n",
    "print(\"sorted = \", y)"
   ]
  },
  {
   "cell_type": "markdown",
   "id": "d871f928",
   "metadata": {},
   "source": [
    "Modifikasi Kode [2](#cod2) sehingga diperoleh hasil yang diminta, yaitu urutan bilangan dari besar ke kecil.\n",
    "\n",
    "### questions\n",
    "1. Apa yang perlu dimodifikasi? Baris ke berapa? (Toggle Line Numbers dengan 'Shitf-L') pada command mode) <br>\n",
    "   **Jawab**: nilai `if y[i] > y[j]:` menjadi `if y[i] < y[j]` pada baris ke 13\n",
    "2. Berapa karakter atau huruf yang perlu diubah pada Kode [2](#cod2)? <br>\n",
    "   **Jawab**: satu karakter `>` diganti dengan `<`"
   ]
  },
  {
   "cell_type": "code",
   "execution_count": null,
   "id": "61708442",
   "metadata": {},
   "outputs": [],
   "source": []
  }
 ],
 "metadata": {
  "kernelspec": {
   "display_name": "Python 3 (ipykernel)",
   "language": "python",
   "name": "python3"
  },
  "language_info": {
   "codemirror_mode": {
    "name": "ipython",
    "version": 3
   },
   "file_extension": ".py",
   "mimetype": "text/x-python",
   "name": "python",
   "nbconvert_exporter": "python",
   "pygments_lexer": "ipython3",
   "version": "3.9.7"
  }
 },
 "nbformat": 4,
 "nbformat_minor": 5
}
