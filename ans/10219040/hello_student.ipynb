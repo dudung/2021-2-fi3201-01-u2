{
 "cells": [
  {
   "cell_type": "markdown",
   "metadata": {},
   "source": [
    "# hello_student\n",
    "Jalankan kode pada sel-sel di bawah ini sehingga menampilkan nama Anda dengan terlebih dahulu mengisikan NIM yang sesuai."
   ]
  },
  {
   "cell_type": "code",
   "execution_count": null,
   "metadata": {},
   "outputs": [
    {
     "data": {
      "text/html": [
       "<script>Jupyter.notebook.kernel.restart()</script>"
      ],
      "text/plain": [
       "<IPython.core.display.HTML object>"
      ]
     },
     "execution_count": 1,
     "metadata": {},
     "output_type": "execute_result"
    }
   ],
   "source": [
    "from IPython.core.display import HTML\n",
    "HTML(\"<script>Jupyter.notebook.kernel.restart()</script>\")"
   ]
  },
  {
   "cell_type": "code",
   "execution_count": 1,
   "metadata": {},
   "outputs": [],
   "source": [
    "import sys, os\n",
    "sys.path.insert(1, os.path.join(sys.path[0], '../..'))"
   ]
  },
  {
   "cell_type": "code",
   "execution_count": 2,
   "metadata": {},
   "outputs": [
    {
     "name": "stdout",
     "output_type": "stream",
     "text": [
      "Check students ----------------------------------------------- ok\n",
      "10219040 is found\n",
      "Hello, Ridwan Muhammad Syahrul!\n",
      "https://github.com/RidwanMSyahrul\n"
     ]
    }
   ],
   "source": [
    "from src.student import Students as stu\n",
    "from src.student import check as chkstu\n",
    "nim = 10219040\n",
    "valid = chkstu(nim)\n",
    "if valid:\n",
    "    print(nim, \" is found\", sep='')\n",
    "    print(\"Hello, \", stu[nim]['name'], \"!\", sep='')\n",
    "    print(\"https://github.com/\", stu[nim]['github'], sep='')\n",
    "else:\n",
    "    print(nim, \" not found\", sep='')"
   ]
  },
  {
   "cell_type": "code",
   "execution_count": null,
   "metadata": {},
   "outputs": [],
   "source": []
  }
 ],
 "metadata": {
  "kernelspec": {
   "display_name": "Python 3",
   "language": "python",
   "name": "python3"
  },
  "language_info": {
   "codemirror_mode": {
    "name": "ipython",
    "version": 3
   },
   "file_extension": ".py",
   "mimetype": "text/x-python",
   "name": "python",
   "nbconvert_exporter": "python",
   "pygments_lexer": "ipython3",
   "version": "3.7.4"
  }
 },
 "nbformat": 4,
 "nbformat_minor": 5
}
