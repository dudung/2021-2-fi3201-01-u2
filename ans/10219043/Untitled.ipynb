{
 "cells": [
  {
   "cell_type": "code",
   "execution_count": 1,
   "id": "f589333f",
   "metadata": {},
   "outputs": [
    {
     "name": "stdout",
     "output_type": "stream",
     "text": [
      "Requirement already satisfied: nb-js-diagrammers in c:\\users\\miaaaa\\anaconda3\\lib\\site-packages (0.0.7)\n",
      "Requirement already satisfied: pyflowchart in c:\\users\\miaaaa\\anaconda3\\lib\\site-packages (from nb-js-diagrammers) (0.2.3)\n",
      "Requirement already satisfied: chardet in c:\\users\\miaaaa\\anaconda3\\lib\\site-packages (from pyflowchart->nb-js-diagrammers) (4.0.0)\n",
      "Requirement already satisfied: astunparse in c:\\users\\miaaaa\\anaconda3\\lib\\site-packages (from pyflowchart->nb-js-diagrammers) (1.6.3)\n",
      "Requirement already satisfied: wheel<1.0,>=0.23.0 in c:\\users\\miaaaa\\anaconda3\\lib\\site-packages (from astunparse->pyflowchart->nb-js-diagrammers) (0.36.2)\n",
      "Requirement already satisfied: six<2.0,>=1.6.1 in c:\\users\\miaaaa\\anaconda3\\lib\\site-packages (from astunparse->pyflowchart->nb-js-diagrammers) (1.15.0)\n",
      "Note: you may need to restart the kernel to use updated packages.\n"
     ]
    }
   ],
   "source": [
    "pip install --upgrade nb-js-diagrammers"
   ]
  },
  {
   "cell_type": "code",
   "execution_count": null,
   "id": "b0c78651",
   "metadata": {},
   "outputs": [],
   "source": []
  }
 ],
 "metadata": {
  "kernelspec": {
   "display_name": "Python 3",
   "language": "python",
   "name": "python3"
  },
  "language_info": {
   "codemirror_mode": {
    "name": "ipython",
    "version": 3
   },
   "file_extension": ".py",
   "mimetype": "text/x-python",
   "name": "python",
   "nbconvert_exporter": "python",
   "pygments_lexer": "ipython3",
   "version": "3.8.8"
  }
 },
 "nbformat": 4,
 "nbformat_minor": 5
}
