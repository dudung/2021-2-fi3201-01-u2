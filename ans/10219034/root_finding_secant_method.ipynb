{
 "cells": [
  {
   "cell_type": "markdown",
   "id": "cca11c7c",
   "metadata": {},
   "source": [
    "# root_finding_scan_range_method\n",
    "Jalankan kode pada sel-sel di bawah ini sehingga identitas Anda tertampilkan dengan benar dan carilah akar fungsi dalam suatu rentang yang dipilih."
   ]
  },
  {
   "cell_type": "markdown",
   "id": "264a9720",
   "metadata": {},
   "source": [
    "## identity\n",
    "Koreksi kode pada sel berikut sehingga identitas Anda benar tertampilkan."
   ]
  },
  {
   "cell_type": "code",
   "execution_count": 1,
   "id": "4e2d555c",
   "metadata": {},
   "outputs": [
    {
     "name": "stdout",
     "output_type": "stream",
     "text": [
      "10219034 Clarisa Andrienny Natasya https://github.com/Clarisa00\n"
     ]
    }
   ],
   "source": [
    "from IPython.core.display import HTML\n",
    "HTML(\"<script>Jupyter.notebook.kernel.restart()</script>\")\n",
    "\n",
    "import sys, os\n",
    "sys.path.insert(1, os.path.join(sys.path[0], '../..'))\n",
    "\n",
    "from src.student import Students as stu\n",
    "nim = 10219034\n",
    "print(nim, end=' ')\n",
    "print(stu[nim]['name'], end=' ')\n",
    "print(\"https://github.com/\", stu[nim]['github'], sep='')"
   ]
  },
  {
   "cell_type": "markdown",
   "id": "b4d42d14",
   "metadata": {},
   "source": [
    "## function\n",
    "Sebuah fungsi matematika, misalnya saja\n",
    "\n",
    "<a name='eqn1'></a>\n",
    "\\begin{equation}\\tag{1}\n",
    "f(x) = \\left[ x - 2.5 e^{-1.5(x - 2.4)} \\right] \\sin \\tfrac12 \\pi (x-1.25)\n",
    "\\end{equation}\n",
    "\n",
    "dapat digambarkan dengan dalam rentang $x \\in [x_{\\rm beg}, x_{\\rm end}]$."
   ]
  },
  {
   "cell_type": "code",
   "execution_count": 2,
   "id": "91d18261",
   "metadata": {},
   "outputs": [],
   "source": [
    "import math\n",
    "\n",
    "# define a function of x\n",
    "def f(x):\n",
    "    y1 = (x -  2.5 * math.exp(-1.5*(x - 2.4)))\n",
    "    y2 = math.sin(2 * math.pi * (x - 1.25) / 4)\n",
    "    y = y1 * y2\n",
    "    return y"
   ]
  },
  {
   "cell_type": "code",
   "execution_count": 3,
   "id": "50160c26",
   "metadata": {},
   "outputs": [],
   "source": [
    "# create data\n",
    "xbeg = 0\n",
    "xend = 10\n",
    "N = 100\n",
    "dx = (xend - xbeg) / N\n",
    "\n",
    "xx = []\n",
    "yy = []\n",
    "\n",
    "for i in range(0, N + 1):\n",
    "    x = xbeg + i * dx\n",
    "    y = f(x)\n",
    "    \n",
    "    xx.append(x)\n",
    "    yy.append(y)\n"
   ]
  },
  {
   "cell_type": "markdown",
   "id": "b290d5ab",
   "metadata": {},
   "source": [
    "## scan range method\n",
    "Suatu rentang $x \\in [x_i, x_{i+1}]$ dengan\n",
    "\n",
    "<a name='eqn2'></a>\n",
    "\\begin{equation}\\tag{2}\n",
    "f(x_i) f(x_{i+1}) < 0,\n",
    "\\end{equation}\n",
    "\n",
    "memiliki setidaknya satu akar.\n",
    "\n",
    "Kode <a name='cod1'>1</a>. Mencari rentang-rentang terdapatnya akar."
   ]
  },
  {
   "cell_type": "code",
   "execution_count": 25,
   "id": "3f7cb0c1",
   "metadata": {},
   "outputs": [
    {
     "name": "stdout",
     "output_type": "stream",
     "text": [
      "Root range\n",
      "[[1.2, 1.3], [2.400000000000001, 2.500000000000001], [3.2000000000000015, 3.3000000000000016], [5.1999999999999975, 5.299999999999997], [7.19999999999999, 7.29999999999999], [9.199999999999983, 9.299999999999983]]\n"
     ]
    }
   ],
   "source": [
    "dx = 0.1\n",
    "\n",
    "root_range = []\n",
    "\n",
    "x = xbeg\n",
    "while x <= xend:\n",
    "    f1 = f(x)\n",
    "    f2 = f(x + dx)\n",
    "    \n",
    "    if f1 * f2 < 0 and x + dx <= xend:\n",
    "        a_range = [x, x + dx]\n",
    "        root_range.append(a_range)\n",
    "        \n",
    "    x += dx\n",
    "\n",
    "print(\"Root range\")\n",
    "print(root_range)"
   ]
  },
  {
   "cell_type": "markdown",
   "id": "c7050f55",
   "metadata": {},
   "source": [
    "Rentang-rentang yang di dalamnya terdapat akar dapat digambarkan pada fungsi yang sebelumnya pada Persamaan ([1](#eqn1)) seperti pada gambar berikut ini.\n",
    "\n",
    "Kode <a name='cod2'>2</a>. Menampilkan kurva dan rentang akar-akarnya."
   ]
  },
  {
   "cell_type": "code",
   "execution_count": 26,
   "id": "e0a6ffc8",
   "metadata": {},
   "outputs": [
    {
     "ename": "NameError",
     "evalue": "name 'xbegdata' is not defined",
     "output_type": "error",
     "traceback": [
      "\u001b[1;31m---------------------------------------------------------------------------\u001b[0m",
      "\u001b[1;31mNameError\u001b[0m                                 Traceback (most recent call last)",
      "\u001b[1;32m~\\AppData\\Local\\Temp/ipykernel_11004/3002593564.py\u001b[0m in \u001b[0;36m<module>\u001b[1;34m\u001b[0m\n\u001b[0;32m     10\u001b[0m \u001b[1;33m\u001b[0m\u001b[0m\n\u001b[0;32m     11\u001b[0m \u001b[1;31m# draw horizontal line\u001b[0m\u001b[1;33m\u001b[0m\u001b[1;33m\u001b[0m\u001b[0m\n\u001b[1;32m---> 12\u001b[1;33m \u001b[0mline\u001b[0m \u001b[1;33m=\u001b[0m \u001b[0mplt\u001b[0m\u001b[1;33m.\u001b[0m\u001b[0mLine2D\u001b[0m\u001b[1;33m(\u001b[0m\u001b[1;33m(\u001b[0m\u001b[0mxbegdata\u001b[0m\u001b[1;33m,\u001b[0m \u001b[0mxenddata\u001b[0m\u001b[1;33m)\u001b[0m\u001b[1;33m,\u001b[0m \u001b[1;33m(\u001b[0m\u001b[1;36m0\u001b[0m\u001b[1;33m,\u001b[0m \u001b[1;36m0\u001b[0m\u001b[1;33m)\u001b[0m\u001b[1;33m,\u001b[0m \u001b[0mcolor\u001b[0m\u001b[1;33m=\u001b[0m\u001b[1;34m'#aaa'\u001b[0m\u001b[1;33m,\u001b[0m \u001b[0mlw\u001b[0m\u001b[1;33m=\u001b[0m\u001b[1;36m1\u001b[0m\u001b[1;33m,\u001b[0m \u001b[0mls\u001b[0m\u001b[1;33m=\u001b[0m\u001b[1;34m'dashed'\u001b[0m\u001b[1;33m)\u001b[0m\u001b[1;33m\u001b[0m\u001b[1;33m\u001b[0m\u001b[0m\n\u001b[0m\u001b[0;32m     13\u001b[0m \u001b[0mplt\u001b[0m\u001b[1;33m.\u001b[0m\u001b[0mgca\u001b[0m\u001b[1;33m(\u001b[0m\u001b[1;33m)\u001b[0m\u001b[1;33m.\u001b[0m\u001b[0madd_line\u001b[0m\u001b[1;33m(\u001b[0m\u001b[0mline\u001b[0m\u001b[1;33m)\u001b[0m\u001b[1;33m\u001b[0m\u001b[1;33m\u001b[0m\u001b[0m\n\u001b[0;32m     14\u001b[0m \u001b[1;33m\u001b[0m\u001b[0m\n",
      "\u001b[1;31mNameError\u001b[0m: name 'xbegdata' is not defined"
     ]
    },
    {
     "data": {
      "image/png": "[encoded data removed]",
      "text/plain": [
       "<Figure size 432x288 with 1 Axes>"
      ]
     },
     "metadata": {
      "needs_background": "light"
     },
     "output_type": "display_data"
    }
   ],
   "source": [
    "import matplotlib.pyplot as plt\n",
    "\n",
    "# plot data\n",
    "plt.ion()\n",
    "fig, ax = plt.subplots()\n",
    "ax.set_xlabel(\"$x$\")\n",
    "ax.set_ylabel(\"$y$\")\n",
    "ax.set_ylim([-9, 9])\n",
    "plt.plot(xx, yy)\n",
    "\n",
    "# draw horizontal line\n",
    "line = plt.Line2D((xbegdata, xenddata), (0, 0), color='#aaa', lw=1, ls='dashed')\n",
    "plt.gca().add_line(line)\n",
    "\n",
    "# draw root range\n",
    "for r in root_range:\n",
    "    x1 = r[0]\n",
    "    x2 = r[1]\n",
    "    line = plt.Line2D((x1, x2), (0, 0), color='g', alpha=0.4, lw=4)\n",
    "    plt.gca().add_line(line)\n",
    "\n",
    "# show plot result\n",
    "plt.show()"
   ]
  },
  {
   "cell_type": "markdown",
   "id": "727025fe",
   "metadata": {},
   "source": [
    "Modifikasi Kode [1](#cod1) dan [2](#cod2) yang diberikan sehingga penggambaran rentang-rentang terdapatnya akar menjadi lebih tepat."
   ]
  },
  {
   "cell_type": "markdown",
   "id": "0f398de4",
   "metadata": {},
   "source": [
    "## secant method\n",
    "Dalam suatu rentang pencarian $x_i \\le x \\le x_{i+1}$ yang diharapkan terdapat satu akar hubungan iteratif\n",
    "\n",
    "<a name='eqn3'></a>\n",
    "\\begin{equation}\\tag{3}\n",
    "x_{i+2} = x_{i+1} - f(x_{i+1}) \\frac{x_{i+1} - x_i}{f(x_{i+1}) - f(x_i)}\n",
    "\\end{equation}\n",
    "\n",
    "yang dikenal dengan metode secant, akan memberikan perkiraan akar $x_{\\rm root} \\approx x_{N}$ dengan $N > 2$.\n",
    "\n",
    "Kode <a name='cod3'>3</a>. Menentukan rentang yang digunakan untuk mencari akar."
   ]
  },
  {
   "cell_type": "code",
   "execution_count": 45,
   "id": "0d7f5fb0",
   "metadata": {},
   "outputs": [
    {
     "name": "stdout",
     "output_type": "stream",
     "text": [
      "xbeg =  9.199999999999983\n",
      "xend =  9.299999999999983\n"
     ]
    }
   ],
   "source": [
    "# set range for secant method\n",
    "n = 5\n",
    "x1 = root_range[n][0]\n",
    "x2 = root_range[n][1]\n",
    "print(\"xbeg = \", x1)\n",
    "print(\"xend = \", x2)\n",
    "\n",
    "xrange1 = x1\n",
    "xrange2 = x2"
   ]
  },
  {
   "cell_type": "markdown",
   "id": "8c7260c2",
   "metadata": {},
   "source": [
    "Kode <a name='cod4'>4</a>. Mencari akar dalam rentang yang dipilih dengan metode secant."
   ]
  },
  {
   "cell_type": "code",
   "execution_count": 46,
   "id": "44e1718e",
   "metadata": {},
   "outputs": [
    {
     "name": "stdout",
     "output_type": "stream",
     "text": [
      "root =  9.249998821611408\n"
     ]
    }
   ],
   "source": [
    "# search root\n",
    "eps = 1E-3\n",
    "err = 1\n",
    "\n",
    "root = ''\n",
    "\n",
    "while abs(err) > eps:\n",
    "    x3 = x2 - f(x2) * (x2 - x1) / (f(x2) - f(x1))\n",
    "    \n",
    "    err = abs(f(x3))\n",
    "    \n",
    "    x1 = x2\n",
    "    x2 = x3\n",
    "    \n",
    "    root = x3\n",
    "\n",
    "print(\"root = \", root)"
   ]
  },
  {
   "cell_type": "markdown",
   "id": "65226db1",
   "metadata": {},
   "source": [
    "Kode <a name='cod5'>5</a>. Menggambarkan akar yang diperoleh dari pencarian akar."
   ]
  },
  {
   "cell_type": "code",
   "execution_count": 29,
   "id": "f1eda068",
   "metadata": {},
   "outputs": [
    {
     "data": {
      "image/png": "[encoded data removed]",
      "text/plain": [
       "<Figure size 432x288 with 1 Axes>"
      ]
     },
     "metadata": {
      "needs_background": "light"
     },
     "output_type": "display_data"
    }
   ],
   "source": [
    "# draw result\n",
    "from matplotlib.patches import Ellipse\n",
    "\n",
    "# plot data\n",
    "plt.ion()\n",
    "fig, ax = plt.subplots()\n",
    "ax.set_xlabel(\"$x$\")\n",
    "ax.set_ylabel(\"$y$\")\n",
    "ax.set_ylim([-9, 9])\n",
    "plt.plot(xx, yy)\n",
    "\n",
    "# draw horizontal line\n",
    "line = plt.Line2D((xbeg, xend), (0, 0), color='#aaa', lw=1, ls='dashed')\n",
    "plt.gca().add_line(line)\n",
    "\n",
    "# draw root range\n",
    "line = plt.Line2D((xrange1, xrange2), (0, 0), color='g', alpha=0.4, lw=4)\n",
    "plt.gca().add_line(line)\n",
    "\n",
    "# draw root position\n",
    "point = Ellipse(\n",
    "    xy=(root, 0), width=0.4, height=1, \n",
    "    edgecolor='r', fc='None', lw=1\n",
    ")\n",
    "plt.gca().add_patch(point)\n",
    "\n",
    "# show plot result\n",
    "plt.show()"
   ]
  },
  {
   "cell_type": "markdown",
   "id": "b9782e31",
   "metadata": {},
   "source": [
    "Modifikasi Kode [1](#cod1), [2](#cod2), [3](#cod3), [4](#cod4), dan [5](#cod5) sehingga satu per satu dapat diperoleh semua akar dari Persamaan ([1](#eqn1)). Kemudian lengkapi tabel berikut ini."
   ]
  },
  {
   "cell_type": "markdown",
   "id": "cdc526a0",
   "metadata": {},
   "source": [
    "Tabel <a name='tab1'>1</a> Akar-akar dari Persamaan ([1](#eqn1)).\n",
    "\n",
    "n   | x1  | x2  | root\n",
    ":-: | :-: | :-: | :-:\n",
    "0   | 1.2 |1.3  |    1.2500029670299357\n",
    "1   |2.400000000000001|2.500000000000001    | 2.4211443453893393\n",
    "2   |3.2000000000000015|3.3000000000000016  |3.2499256146863793\n",
    "3   |5.1999999999999975|5.299999999999997   |5.249995479687406\n",
    "4   |7.19999999999999|   7.29999999999999 |7.249997975796951\n",
    "5   |9.199999999999983    |  9.299999999999983   |9.249998821611408\n",
    "6   |     |     |"
   ]
  },
  {
   "cell_type": "code",
   "execution_count": null,
   "id": "331ed08a",
   "metadata": {},
   "outputs": [],
   "source": []
  }
 ],
 "metadata": {
  "kernelspec": {
   "display_name": "Python 3 (ipykernel)",
   "language": "python",
   "name": "python3"
  },
  "language_info": {
   "codemirror_mode": {
    "name": "ipython",
    "version": 3
   },
   "file_extension": ".py",
   "mimetype": "text/x-python",
   "name": "python",
   "nbconvert_exporter": "python",
   "pygments_lexer": "ipython3",
   "version": "3.9.7"
  }
 },
 "nbformat": 4,
 "nbformat_minor": 5
}
