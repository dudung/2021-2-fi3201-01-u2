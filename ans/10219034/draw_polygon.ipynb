{
 "cells": [
  {
   "cell_type": "markdown",
   "id": "cca11c7c",
   "metadata": {},
   "source": [
    "# draw_polygon\n",
    "Jalankan kode pada sel-sel di bawah ini sehingga identitas Anda tertampilkan dengan benar dan gambarkan sebuah poligon."
   ]
  },
  {
   "cell_type": "code",
   "execution_count": 2,
   "id": "4e2d555c",
   "metadata": {},
   "outputs": [
    {
     "name": "stdout",
     "output_type": "stream",
     "text": [
      "10219034 Clarisa Andrienny Natasya https://github.com/Clarisa00\n"
     ]
    }
   ],
   "source": [
    "from IPython.core.display import HTML\n",
    "HTML(\"<script>Jupyter.notebook.kernel.restart()</script>\")\n",
    "\n",
    "import sys, os\n",
    "sys.path.insert(1, os.path.join(sys.path[0], '../..'))\n",
    "\n",
    "from src.student import Students as stu\n",
    "nim = 10219034\n",
    "print(nim, end=' ')\n",
    "print(stu[nim]['name'], end=' ')\n",
    "print(\"https://github.com/\", stu[nim]['github'], sep='')"
   ]
  },
  {
   "cell_type": "code",
   "execution_count": 3,
   "id": "d1c0d218",
   "metadata": {},
   "outputs": [],
   "source": [
    "import math\n",
    "import matplotlib.pyplot as plt"
   ]
  },
  {
   "cell_type": "markdown",
   "id": "b4d42d14",
   "metadata": {},
   "source": [
    "## polygon\n",
    "Poligon digambarkan dengan titik-titik $(x_1, y_1)$, $(x_2, y_2)$, $\\dots$, $(x_N, y_N)$, bila terdapat $N$ buah titik."
   ]
  },
  {
   "cell_type": "code",
   "execution_count": 4,
   "id": "86684f45",
   "metadata": {},
   "outputs": [
    {
     "data": {
      "image/png": "[encoded data removed]",
      "text/plain": [
       "<Figure size 432x288 with 1 Axes>"
      ]
     },
     "metadata": {
      "needs_background": "light"
     },
     "output_type": "display_data"
    }
   ],
   "source": [
    "R = 10\n",
    "N = 6\n",
    "dq = 2 * math.pi / N\n",
    "q0 = 0\n",
    "\n",
    "points = []\n",
    "\n",
    "for i in range(N):\n",
    "    q = i * dq + q0\n",
    "    x = R * math.sin(q)\n",
    "    y = R * math.cos(q)\n",
    "\n",
    "    p = [x, y]\n",
    "    points.append(p)\n",
    "    \n",
    "line = plt.Polygon(\n",
    "    points, closed=True,\n",
    "    fill=None,\n",
    "    edgecolor='r', lw=2\n",
    ")\n",
    "plt.gca().add_patch(line)\n",
    "plt.axis('scaled')\n",
    "plt.show()"
   ]
  },
  {
   "cell_type": "markdown",
   "id": "a4fd87e5",
   "metadata": {},
   "source": [
    "## rotating hexagonal\n",
    "Heksagonal hasil dari kode sebelumnya dapat digambarkan dengan sisi miringnya menjadi searah dengan arah vertikal seperti di bawah ini."
   ]
  },
  {
   "cell_type": "code",
   "execution_count": null,
   "id": "40a29a42",
   "metadata": {},
   "outputs": [],
   "source": [
    "R = 10\n",
    "N = 6\n",
    "dq = 2 * math.pi / N\n",
    "q0 = 0\n",
    "\n",
    "points = []\n",
    "\n",
    "for i in range(N):\n",
    "    q = i * dq + q0\n",
    "    x = R * math.cos(q)\n",
    "    y = R * math.sin(q)\n",
    "\n",
    "    p = [x, y]\n",
    "    points.append(p)\n",
    "    \n",
    "line = plt.Polygon(\n",
    "    points, closed=True,\n",
    "    fill=None,\n",
    "    edgecolor='r', lw=2\n",
    ")\n",
    "plt.gca().add_patch(line)\n",
    "plt.axis('scaled')\n",
    "plt.show()"
   ]
  },
  {
   "cell_type": "markdown",
   "id": "9461815c",
   "metadata": {},
   "source": [
    "Modifikasi kode di atas agar diperoleh gambar berikut ini.\n",
    "\n",
    "![](hexagonal_vertical.png)"
   ]
  }
 ],
 "metadata": {
  "kernelspec": {
   "display_name": "Python 3 (ipykernel)",
   "language": "python",
   "name": "python3"
  },
  "language_info": {
   "codemirror_mode": {
    "name": "ipython",
    "version": 3
   },
   "file_extension": ".py",
   "mimetype": "text/x-python",
   "name": "python",
   "nbconvert_exporter": "python",
   "pygments_lexer": "ipython3",
   "version": "3.9.7"
  }
 },
 "nbformat": 4,
 "nbformat_minor": 5
}
