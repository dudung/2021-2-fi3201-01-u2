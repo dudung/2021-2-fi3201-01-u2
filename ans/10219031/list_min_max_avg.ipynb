{
 "cells": [
  {
   "cell_type": "markdown",
   "metadata": {},
   "source": [
    "# list_min_max_avg\n",
    "Jalankan kode pada sel-sel di bawah ini sehingga identitas Anda tertampilkan dengan benar dan lakukan statistik sederhana."
   ]
  },
  {
   "cell_type": "code",
   "execution_count": 1,
   "metadata": {},
   "outputs": [
    {
     "name": "stdout",
     "output_type": "stream",
     "text": [
      "10219031 Yoda Taruna Hidayah https://github.com/YodaTaruna\n"
     ]
    }
   ],
   "source": [
    "from IPython.core.display import HTML\n",
    "HTML(\"<script>Jupyter.notebook.kernel.restart()</script>\")\n",
    "\n",
    "import sys, os\n",
    "sys.path.insert(1, os.path.join(sys.path[0], '../..'))\n",
    "\n",
    "from src.student import Students as stu\n",
    "nim = 10219031\n",
    "print(nim, end=' ')\n",
    "print(stu[nim]['name'], end=' ')\n",
    "print(\"https://github.com/\", stu[nim]['github'], sep='')"
   ]
  },
  {
   "cell_type": "markdown",
   "metadata": {},
   "source": [
    "Bila terdapat $N$ bilangan maka rata-ratanya dapat diperoleh melalui\n",
    "\n",
    "\\begin{equation}\n",
    "x_{\\rm avg} = \\frac1N \\sum_{i = 1}^N x_i,\n",
    "\\end{equation}\n",
    "\n",
    "untuk misalnya $x = \\{ x_1, x_2, \\dots, x_N \\}$."
   ]
  },
  {
   "cell_type": "code",
   "execution_count": 6,
   "metadata": {},
   "outputs": [
    {
     "name": "stdout",
     "output_type": "stream",
     "text": [
      "x = [1, 10, 5, 7, 9, 2, 4, 6, 8, 3]\n",
      "xmin = 1\n",
      "xmax = 10\n",
      "xavg = 0.3\n"
     ]
    }
   ],
   "source": [
    "def avg(x):\n",
    "    sum = 0\n",
    "    for i in x:\n",
    "        sum = i\n",
    "    N = len(x)\n",
    "    val = sum / N\n",
    "    return val\n",
    "\n",
    "x = [1, 10, 5, 7, 9, 2, 4, 6, 8, 3]\n",
    "\n",
    "#xmin = \n",
    "xmin = min(x)\n",
    "#xmax = \n",
    "xmax = max(x)\n",
    "#xavg = \n",
    "xavg = avg(x)\n",
    "\n",
    "print(\"x = \", x, sep='')\n",
    "print(\"xmin = \", xmin, sep='')\n",
    "print(\"xmax = \", xmax, sep='')\n",
    "print(\"xavg = \", xavg, sep='')"
   ]
  },
  {
   "cell_type": "markdown",
   "metadata": {},
   "source": [
    "Perbaiki kode di atas sehingga dapat diperoleh nilai $x_{\\rm min}$, $x_{\\rm max}$, dan $x_{\\rm avg}$."
   ]
  }
 ],
 "metadata": {
  "kernelspec": {
   "display_name": "Python 3",
   "language": "python",
   "name": "python3"
  },
  "language_info": {
   "codemirror_mode": {
    "name": "ipython",
    "version": 3
   },
   "file_extension": ".py",
   "mimetype": "text/x-python",
   "name": "python",
   "nbconvert_exporter": "python",
   "pygments_lexer": "ipython3",
   "version": "3.7.4"
  }
 },
 "nbformat": 4,
 "nbformat_minor": 5
}
