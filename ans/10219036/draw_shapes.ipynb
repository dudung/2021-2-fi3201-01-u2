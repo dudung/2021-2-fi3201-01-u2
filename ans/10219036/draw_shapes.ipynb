{
 "cells": [
  {
   "cell_type": "markdown",
   "id": "cca11c7c",
   "metadata": {},
   "source": [
    "# draw_shapes\n",
    "Jalankan kode pada sel-sel di bawah ini sehingga identitas Anda tertampilkan dengan benar dan gambarkan beberapa bentuk."
   ]
  },
  {
   "cell_type": "code",
   "execution_count": 4,
   "id": "4e2d555c",
   "metadata": {},
   "outputs": [
    {
     "name": "stdout",
     "output_type": "stream",
     "text": [
      "10219036 Jeremy David Dipahotma https://github.com/jeredav24\n"
     ]
    }
   ],
   "source": [
    "from IPython.core.display import HTML\n",
    "HTML(\"<script>Jupyter.notebook.kernel.restart()</script>\")\n",
    "\n",
    "import sys, os\n",
    "sys.path.insert(1, os.path.join(sys.path[0], '../..'))\n",
    "\n",
    "from src.student import Students as stu\n",
    "nim = 10219036\n",
    "print(nim, end=' ')\n",
    "print(stu[nim]['name'], end=' ')\n",
    "print(\"https://github.com/\", stu[nim]['github'], sep='')"
   ]
  },
  {
   "cell_type": "code",
   "execution_count": null,
   "id": "d1c0d218",
   "metadata": {},
   "outputs": [],
   "source": [
    "import matplotlib.pyplot as plt"
   ]
  },
  {
   "cell_type": "markdown",
   "id": "b4d42d14",
   "metadata": {},
   "source": [
    "## circle\n",
    "Sebuah lingkaran dengan pusat `(xc, yc)`, radius `r`, berisi warna `#ccf`, garis batas berwarna `k`, tebal garis `2`, dan jenis garis `dashed` digambarkan dengan kode berikut ini."
   ]
  },
  {
   "cell_type": "code",
   "execution_count": null,
   "id": "86684f45",
   "metadata": {},
   "outputs": [],
   "source": [
    "xc = 1\n",
    "yc = 0\n",
    "r = 0.5\n",
    "circle = plt.Circle(\n",
    "    (xc, yc), radius=r,\n",
    "    fc='#ccf',\n",
    "    lw=2, ls='dashed', color='k'\n",
    ")\n",
    "plt.gca().add_patch(circle)\n",
    "plt.axis('scaled')\n",
    "plt.show()"
   ]
  },
  {
   "cell_type": "markdown",
   "id": "245c36e1",
   "metadata": {},
   "source": [
    "## rectangle\n",
    "Sebuah persegi panjang dengan titik sudut `(x, y)`, lebar `w`, tinggi `h`, berisi warna `y`, garis batas bewarna `r`, jenis garis `dotted`, tebal garis `3` dapat digambarkan dengan kode berikut ini."
   ]
  },
  {
   "cell_type": "code",
   "execution_count": null,
   "id": "54a23f33",
   "metadata": {},
   "outputs": [],
   "source": [
    "x = 20\n",
    "y = 20\n",
    "w = 80\n",
    "h = 90\n",
    "rectangle = plt.Rectangle(\n",
    "    (x, y), w, h,\n",
    "    fc='y',\n",
    "    color='r', ls='dotted', lw=3\n",
    ")\n",
    "plt.gca().add_patch(rectangle)\n",
    "plt.axis('scaled')\n",
    "plt.show()"
   ]
  },
  {
   "cell_type": "markdown",
   "id": "184aa2b4",
   "metadata": {},
   "source": [
    "## line\n",
    "Sebuah garis lurus yang menghubungkan titik `(x1, y1)` dan `(x2, y2)` dengan warna garis `#aca`, tebal `1`, dan jenis garis `solid` dapat diperoleh menggunakan kode berikut ini."
   ]
  },
  {
   "cell_type": "code",
   "execution_count": null,
   "id": "e5023430",
   "metadata": {},
   "outputs": [],
   "source": [
    "x1 = 10\n",
    "y1 = 20\n",
    "x2 = 50\n",
    "y2 = 60\n",
    "line = plt.Line2D((x1, x2), (y1, y2), color='#4c4', lw=1, ls='solid')\n",
    "plt.gca().add_line(line)\n",
    "plt.axis('scaled')\n",
    "plt.show()"
   ]
  },
  {
   "cell_type": "markdown",
   "id": "6426f3ed",
   "metadata": {},
   "source": [
    "## shapes\n",
    "Untuk mendapatkan gambar di bawah ini\n",
    "\n",
    "![](draw_3_shapes.png)\n",
    "\n",
    "lengkapi kode berikut."
   ]
  },
  {
   "cell_type": "code",
   "execution_count": 3,
   "id": "63618a80",
   "metadata": {},
   "outputs": [
    {
     "data": {
      "image/png": "[encoded data removed]",
      "text/plain": [
       "<Figure size 432x288 with 1 Axes>"
      ]
     },
     "metadata": {
      "needs_background": "light"
     },
     "output_type": "display_data"
    }
   ],
   "source": [
    "import math\n",
    "import matplotlib.pyplot as plt\n",
    "xc = 20\n",
    "yc = 20\n",
    "r = 10\n",
    "circle = plt.Circle((xc, yc), radius=r, fc='#ccf', lw=2, ls='dashed', color='k')\n",
    "plt.gca().add_patch(circle)\n",
    "\n",
    "x = 80\n",
    "y = 80\n",
    "w = 20\n",
    "h = 20\n",
    "rectangle = plt.Rectangle((x, y), w, h, fc='b', color='r', ls='solid', lw=4)\n",
    "plt.gca().add_patch(rectangle)\n",
    "\n",
    "x1 = 27\n",
    "y1 = 27\n",
    "x2 = 80\n",
    "y2 = 80\n",
    "line = plt.Line2D((x1, x2), (y1,y2), color='#4c4', lw=2, ls='solid')\n",
    "plt.gca().add_line(line)\n",
    "\n",
    "plt.axis('scaled')\n",
    "plt.show()"
   ]
  },
  {
   "cell_type": "code",
   "execution_count": null,
   "id": "87628884",
   "metadata": {},
   "outputs": [],
   "source": []
  }
 ],
 "metadata": {
  "kernelspec": {
   "display_name": "Python 3 (ipykernel)",
   "language": "python",
   "name": "python3"
  },
  "language_info": {
   "codemirror_mode": {
    "name": "ipython",
    "version": 3
   },
   "file_extension": ".py",
   "mimetype": "text/x-python",
   "name": "python",
   "nbconvert_exporter": "python",
   "pygments_lexer": "ipython3",
   "version": "3.9.7"
  }
 },
 "nbformat": 4,
 "nbformat_minor": 5
}
