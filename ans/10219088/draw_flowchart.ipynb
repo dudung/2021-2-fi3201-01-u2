{
 "cells": [
  {
   "cell_type": "markdown",
   "id": "1a7a4c3d",
   "metadata": {},
   "source": [
    "# draw_flowchart\n",
    "Dengan menggunakan [Mermaid](https://mermaid-js.github.io/mermaid/#/) dapat dibuat beraneka [diagram alir](https://mermaid-js.github.io/mermaid/#/flowchart)."
   ]
  },
  {
   "cell_type": "code",
   "execution_count": 4,
   "id": "b2fe8948",
   "metadata": {},
   "outputs": [],
   "source": [
    "%load_ext nb_js_diagrammers"
   ]
  },
  {
   "cell_type": "markdown",
   "id": "9ef5818b",
   "metadata": {},
   "source": [
    "## sign\n",
    "Suatu variabel $x$ dapat dapat memiliki tanda positif (+1), nol (0) atau negativ (-1) mengikuti\n",
    "\n",
    "<a name='eqn1'></a>\n",
    "\\begin{equation}\\tag{1}\n",
    "{\\rm sign}(x) = \\left\\{\n",
    "\\begin{array}{rl}\n",
    "+1, & x > 0\\newline\n",
    "0, & x = 0 \\newline\n",
    "-1, & x < 0.\n",
    "\\end{array}\n",
    "\\right.\n",
    "\\end{equation}\n",
    "\n",
    "Persamaan ([1](#eqn1)) ini dipergunakan salah satunya untuk menentukan arah dari suatu vektor."
   ]
  },
  {
   "cell_type": "markdown",
   "id": "978f3b5e",
   "metadata": {},
   "source": [
    "## example\n",
    "Berikut ini adalah contoh penggunaan Mermaid untuk membuat diagram alir menentukan tanda dari suatu bilangan."
   ]
  },
  {
   "cell_type": "code",
   "execution_count": 5,
   "id": "46e9f88f",
   "metadata": {},
   "outputs": [
    {
     "data": {
      "text/html": [
       "<iframe srcdoc=\"&lt;html&gt;\n",
       "    &lt;body&gt;\n",
       "        &lt;script src=&quot;https://cdn.jsdelivr.net/npm/mermaid/dist/mermaid.min.js&quot;&gt;&lt;/script&gt;\n",
       "        &lt;script&gt;\n",
       "            mermaid.initialize({ startOnLoad: true });\n",
       "        &lt;/script&gt;\n",
       " \n",
       "        &lt;div class=&quot;mermaid&quot;&gt;\n",
       "            \n",
       "flowchart TD\n",
       "    B([ Mulai ]);\n",
       "    E([ Selesai ]);\n",
       "    I[/ x /];\n",
       "    D1{ x &gt; 0};\n",
       "    D2{ x = 0};\n",
       "    S1[ sign = 1];\n",
       "    S2[ sign = 0];\n",
       "    S3[ sign = -1];\n",
       "    O[/ sign /];\n",
       "    B --&gt; I;\n",
       "    I --&gt; D1;\n",
       "    D1 -- Y --&gt; S1;\n",
       "    D1 -- T --&gt; D2;\n",
       "    D2 -- T --&gt; S3;\n",
       "    D2 -- Y --&gt; S2;\n",
       "    S1 --&gt; O;\n",
       "    S2 --&gt; O;\n",
       "    S3 --&gt; O;\n",
       "    O --&gt; E;\n",
       "\n",
       "        &lt;/div&gt;\n",
       " \n",
       "    &lt;/body&gt;\n",
       "&lt;/html&gt;\n",
       "\" width=\"100%\" height=\"720\"style=\"border:none !important;\" \"allowfullscreen\" \"webkitallowfullscreen\" \"mozallowfullscreen\"></iframe>"
      ],
      "text/plain": [
       "<nb_js_diagrammers.magics.JSDiagram at 0x19d9d071f40>"
      ]
     },
     "execution_count": 5,
     "metadata": {},
     "output_type": "execute_result"
    }
   ],
   "source": [
    "%%mermaid_magic -h 720\n",
    "\n",
    "flowchart TD\n",
    "    B([ Mulai ]);\n",
    "    E([ Selesai ]);\n",
    "    I[/ x /];\n",
    "    D1{ x > 0};\n",
    "    D2{ x = 0};\n",
    "    S1[ sign = 1];\n",
    "    S2[ sign = 0];\n",
    "    S3[ sign = -1];\n",
    "    O[/ sign /];\n",
    "    B --> I;\n",
    "    I --> D1;\n",
    "    D1 -- Y --> S1;\n",
    "    D1 -- T --> D2;\n",
    "    D2 -- T --> S3;\n",
    "    D2 -- Y --> S2;\n",
    "    S1 --> O;\n",
    "    S2 --> O;\n",
    "    S3 --> O;\n",
    "    O --> E;"
   ]
  },
  {
   "cell_type": "markdown",
   "id": "0b0e2ae1",
   "metadata": {},
   "source": [
    "Diagram alir di atas merupakan penerapan dari menurut Persamaan ([1](#eqn1))."
   ]
  },
  {
   "cell_type": "markdown",
   "id": "a8cd565e",
   "metadata": {},
   "source": [
    "Untuk dapat menggambarkan diagram alir di atas secara lokal perlu dinstal [nb-js-diagrammers](https://pypi.org/project/nb-js-diagrammers/0.0.7/). Dan untuk melihatnya di GitHub cukup dibuat suatu berkas Markdown seperti [draw_flowchart_sign.md](draw_flowchart_sign.md)."
   ]
  },
  {
   "cell_type": "code",
   "execution_count": 3,
   "id": "9734477e",
   "metadata": {},
   "outputs": [
    {
     "name": "stdout",
     "output_type": "stream",
     "text": [
      "Collecting nb-js-diagrammers\n",
      "  Downloading nb_js_diagrammers-0.0.7-py3-none-any.whl (8.8 kB)\n",
      "Collecting pyflowchart\n",
      "  Downloading pyflowchart-0.2.3-py3-none-any.whl (18 kB)\n",
      "Collecting astunparse\n",
      "  Using cached astunparse-1.6.3-py2.py3-none-any.whl (12 kB)\n",
      "Requirement already satisfied: chardet in c:\\users\\dimas\\anaconda3\\lib\\site-packages (from pyflowchart->nb-js-diagrammers) (3.0.4)\n",
      "Requirement already satisfied: six<2.0,>=1.6.1 in c:\\users\\dimas\\appdata\\roaming\\python\\python38\\site-packages (from astunparse->pyflowchart->nb-js-diagrammers) (1.14.0)\n",
      "Requirement already satisfied: wheel<1.0,>=0.23.0 in c:\\users\\dimas\\anaconda3\\lib\\site-packages (from astunparse->pyflowchart->nb-js-diagrammers) (0.36.2)\n",
      "Installing collected packages: astunparse, pyflowchart, nb-js-diagrammers\n",
      "Successfully installed astunparse-1.6.3 nb-js-diagrammers-0.0.7 pyflowchart-0.2.3\n",
      "Note: you may need to restart the kernel to use updated packages.\n"
     ]
    },
    {
     "name": "stderr",
     "output_type": "stream",
     "text": [
      "WARNING: Retrying (Retry(total=4, connect=None, read=None, redirect=None, status=None)) after connection broken by 'ProtocolError('Connection aborted.', ConnectionResetError(10054, 'An existing connection was forcibly closed by the remote host', None, 10054, None))': /simple/nb-js-diagrammers/\n"
     ]
    }
   ],
   "source": [
    "pip install --upgrade nb-js-diagrammers"
   ]
  },
  {
   "cell_type": "markdown",
   "id": "2ca1a9dd",
   "metadata": {},
   "source": [
    "## comparing two number\n",
    "Salah satu diagram alir untuk membandingkan dua buah bilangan adalah sebagai berikut.\n",
    "\n",
    "![](draw_flowchart_compare_two_numbers.png)\n",
    "\n",
    "Koreksi kode berikut untuk mendapatkan hasil di atas."
   ]
  },
  {
   "cell_type": "code",
   "execution_count": 13,
   "id": "b9ae6a9d",
   "metadata": {},
   "outputs": [
    {
     "data": {
      "text/html": [
       "<iframe srcdoc=\"&lt;html&gt;\n",
       "    &lt;body&gt;\n",
       "        &lt;script src=&quot;https://cdn.jsdelivr.net/npm/mermaid/dist/mermaid.min.js&quot;&gt;&lt;/script&gt;\n",
       "        &lt;script&gt;\n",
       "            mermaid.initialize({ startOnLoad: true });\n",
       "        &lt;/script&gt;\n",
       " \n",
       "        &lt;div class=&quot;mermaid&quot;&gt;\n",
       "            \n",
       "flowchart TD\n",
       "    B([ Mulai ]);\n",
       "    E([ Selesai ]);\n",
       "    I[/ x,y /];\n",
       "    D1{ x &gt; y};\n",
       "    D2{ x = y};\n",
       "    S1[ s = &#x27;x &gt; y&#x27;];\n",
       "    S2[ s = &#x27;x &lt; y&#x27;];\n",
       "    S3[ s = &#x27;x = y&#x27;];\n",
       "    O[/ s /];\n",
       "    B --&gt; I;\n",
       "    I --&gt; D1;\n",
       "    D1 -- Y --&gt; S1;\n",
       "    D1 -- T --&gt; D2;\n",
       "    D2 -- Y --&gt; S3;\n",
       "    D2 -- T --&gt; S2;\n",
       "    S1 --&gt; O;\n",
       "    S2 --&gt; O;\n",
       "    S3 --&gt; O;\n",
       "    O --&gt; E;\n",
       "\n",
       "        &lt;/div&gt;\n",
       " \n",
       "    &lt;/body&gt;\n",
       "&lt;/html&gt;\n",
       "\" width=\"100%\" height=\"160\"style=\"border:none !important;\" \"allowfullscreen\" \"webkitallowfullscreen\" \"mozallowfullscreen\"></iframe>"
      ],
      "text/plain": [
       "<nb_js_diagrammers.magics.JSDiagram at 0x19d9d1baa60>"
      ]
     },
     "execution_count": 13,
     "metadata": {},
     "output_type": "execute_result"
    }
   ],
   "source": [
    "%%mermaid_magic -h 160\n",
    "\n",
    "flowchart TD\n",
    "    B([ Mulai ]);\n",
    "    E([ Selesai ]);\n",
    "    I[/ x,y /];\n",
    "    D1{ x > y};\n",
    "    D2{ x = y};\n",
    "    S1[ s = 'x > y'];\n",
    "    S2[ s = 'x < y'];\n",
    "    S3[ s = 'x = y'];\n",
    "    O[/ s /];\n",
    "    B --> I;\n",
    "    I --> D1;\n",
    "    D1 -- Y --> S1;\n",
    "    D1 -- T --> D2;\n",
    "    D2 -- Y --> S3;\n",
    "    D2 -- T --> S2;\n",
    "    S1 --> O;\n",
    "    S2 --> O;\n",
    "    S3 --> O;\n",
    "    O --> E;"
   ]
  },
  {
   "cell_type": "markdown",
   "id": "bd61bc84",
   "metadata": {},
   "source": [
    "Hasil kode di atas dapat dilihat pada berkas [draw_flowchart_compare_two_numbers.md](draw_flowchart_compare_two_numbers.md)."
   ]
  }
 ],
 "metadata": {
  "kernelspec": {
   "display_name": "Python 3",
   "language": "python",
   "name": "python3"
  },
  "language_info": {
   "codemirror_mode": {
    "name": "ipython",
    "version": 3
   },
   "file_extension": ".py",
   "mimetype": "text/x-python",
   "name": "python",
   "nbconvert_exporter": "python",
   "pygments_lexer": "ipython3",
   "version": "3.8.8"
  }
 },
 "nbformat": 4,
 "nbformat_minor": 5
}
