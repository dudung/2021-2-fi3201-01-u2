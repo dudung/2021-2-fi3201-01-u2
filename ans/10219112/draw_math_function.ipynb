{
 "cells": [
  {
   "cell_type": "markdown",
   "id": "cca11c7c",
   "metadata": {},
   "source": [
    "# draw_math_function\n",
    "Jalankan kode pada sel-sel di bawah ini sehingga identitas Anda tertampilkan dengan benar dan gambarkan beberapa fungsi matematika."
   ]
  },
  {
   "cell_type": "code",
   "execution_count": 1,
   "id": "4e2d555c",
   "metadata": {},
   "outputs": [
    {
     "name": "stdout",
     "output_type": "stream",
     "text": [
      "10219112 Hanz Hamzah Kusumah https://github.com/HanzHamzahK\n"
     ]
    }
   ],
   "source": [
    "from IPython.core.display import HTML\n",
    "HTML(\"<script>Jupyter.notebook.kernel.restart()</script>\")\n",
    "\n",
    "import sys, os\n",
    "sys.path.insert(1, os.path.join(sys.path[0], '../..'))\n",
    "\n",
    "from src.student import Students as stu\n",
    "nim = 10219112\n",
    "print(nim, end=' ')\n",
    "print(stu[nim]['name'], end=' ')\n",
    "print(\"https://github.com/\", stu[nim]['github'], sep='')"
   ]
  },
  {
   "cell_type": "code",
   "execution_count": 2,
   "id": "d1c0d218",
   "metadata": {},
   "outputs": [],
   "source": [
    "import math\n",
    "import matplotlib.pyplot as plt"
   ]
  },
  {
   "cell_type": "markdown",
   "id": "b4d42d14",
   "metadata": {},
   "source": [
    "## function\n",
    "Sebuah fungsi matematika, misalnya saja\n",
    "\n",
    "<a name='eqn1'></a>\n",
    "\\begin{equation}\\tag{1}\n",
    "f(x) = \\left[ x - 2.5 e^{-(x - 2.8)} \\right] \\sin \\tfrac23 \\pi (x-1)\n",
    "\\end{equation}\n",
    "\n",
    "dapat digambarkan dengan dalam rentang $x \\in [x_{\\rm beg}, x_{\\rm end}]$."
   ]
  },
  {
   "cell_type": "code",
   "execution_count": 3,
   "id": "91d18261",
   "metadata": {},
   "outputs": [],
   "source": [
    "# define a function of x\n",
    "def f(x):\n",
    "    y1 = (x -  2.5 * math.exp(-(x - 2.8)))\n",
    "    y2 = math.sin(2 * math.pi * (x - 1) / 3)\n",
    "    y = y1 * y2\n",
    "    return y"
   ]
  },
  {
   "cell_type": "code",
   "execution_count": 4,
   "id": "50160c26",
   "metadata": {},
   "outputs": [],
   "source": [
    "# create data\n",
    "xbeg = 0\n",
    "xend = 10\n",
    "N = 100\n",
    "dx = (xend - xbeg) / N\n",
    "\n",
    "xx = []\n",
    "yy = []\n",
    "\n",
    "for i in range(0, N + 1):\n",
    "    x = xbeg + i * dx\n",
    "    y = f(x)\n",
    "    \n",
    "    xx.append(x)\n",
    "    yy.append(y)\n"
   ]
  },
  {
   "cell_type": "code",
   "execution_count": 5,
   "id": "86684f45",
   "metadata": {},
   "outputs": [
    {
     "data": {
      "image/png": "[encoded data removed]",
      "text/plain": [
       "<Figure size 432x288 with 1 Axes>"
      ]
     },
     "metadata": {
      "needs_background": "light"
     },
     "output_type": "display_data"
    }
   ],
   "source": [
    "# plot data\n",
    "plt.ion()\n",
    "fig, ax = plt.subplots()\n",
    "ax.set_xlabel(\"$x$\")\n",
    "ax.set_ylabel(\"$y$\")\n",
    "plt.plot(xx, yy)\n",
    "\n",
    "# draw horizontal line\n",
    "line = plt.Line2D((xbeg, xend), (0, 0), color='#aaa', lw=1, ls='dashed')\n",
    "plt.gca().add_line(line)\n",
    "\n",
    "# show plot result\n",
    "plt.show()"
   ]
  },
  {
   "cell_type": "markdown",
   "id": "fc0a3512",
   "metadata": {},
   "source": [
    "## another function\n",
    "Terdapat fungsi lain berbentuk\n",
    "\n",
    "<a name='eqn2'></a>\n",
    "\\begin{equation}\\tag{2}\n",
    "f(x) = e^{-ax} \\sin bx\n",
    "\\end{equation}\n",
    "\n",
    "dalam rentang $x \\in [x_{\\rm beg}, x_{\\rm end}]$ yang memberikan hasil\n",
    "\n",
    "![](draw_math_function.png)\n",
    "\n",
    "dengan nilai-nilai $a$, $b$, $x_{\\rm beg}$, $x_{\\rm end}$, dan $N$ tertentu."
   ]
  },
  {
   "cell_type": "code",
   "execution_count": null,
   "id": "49a0bcac",
   "metadata": {},
   "outputs": [],
   "source": [
    "# set parameters\n",
    "a = 0.1\n",
    "b = 4\n",
    "xbeg = 0\n",
    "xend = 8\n",
    "N = 100\n",
    "\n",
    "# define another function of x\n",
    "def g(x):\n",
    "    y = math.exp(-a * x) * math.sin(b * x)\n",
    "    return y\n",
    "\n",
    "# create data\n",
    "dx = (xend - xbeg) / N\n",
    "\n",
    "xx = []\n",
    "yy = []\n",
    "\n",
    "for i in range(0, N + 1):\n",
    "    x = xbeg + i * dx\n",
    "    y = g(x)\n",
    "    \n",
    "    xx.append(x)\n",
    "    yy.append(y)\n",
    "\n",
    "# plot data\n",
    "plt.ion()\n",
    "fig, ax = plt.subplots()\n",
    "ax.set_xlabel(\"$x$\")\n",
    "ax.set_ylabel(\"$y$\")\n",
    "plt.plot(xx, yy)\n",
    "\n",
    "# draw horizontal line\n",
    "line = plt.Line2D((xbeg, xend), (0, 0), color='#aaa', lw=1, ls='dashed')\n",
    "plt.gca().add_line(line)\n",
    "line = plt.Line2D((xbeg, xend), (0.4, 0.4), color='#aaa', lw=1, ls='dashed')\n",
    "plt.gca().add_line(line)\n",
    "line = plt.Line2D((xbeg, xend), (0.8, 0.8), color='#aaa', lw=1, ls='dashed')\n",
    "plt.gca().add_line(line)\n",
    "line = plt.Line2D((xbeg, xend), (-0.4, -0.4), color='#aaa', lw=1, ls='dashed')\n",
    "plt.gca().add_line(line)\n",
    "\n",
    "# show plot result\n",
    "plt.show()\n",
    "\n",
    "# print parameters\n",
    "print(\"a = \", a, sep='')\n",
    "print(\"b = \", b, sep='')\n",
    "print(\"xbeg = \", xbeg, sep='')\n",
    "print(\"xend = \", xend, sep='')\n",
    "print(\"N = \", N, sep='')"
   ]
  },
  {
   "cell_type": "markdown",
   "id": "e7d6e9d6",
   "metadata": {},
   "source": [
    "Modifikasi kode di atas sehingga gambar berikut dapat diperoleh.\n",
    "\n",
    "![](draw_math_function.png)"
   ]
  },
  {
   "cell_type": "markdown",
   "id": "e45205ba-7e99-44cf-9cb6-506af13fb8bd",
   "metadata": {},
   "source": [
    "Untuk mendapatkan seperti gambar di atas diperlukan modifikasi pada nilai a dan b sehingga\n",
    "```python\n",
    "a = 0.25\n",
    "b = 3.13\n",
    "```\n",
    "dengan perubahan diatas diperoleh sebagai berikut"
   ]
  },
  {
   "cell_type": "code",
   "execution_count": 7,
   "id": "10453d3e-b7d7-4db1-af35-b9ee9e3effa5",
   "metadata": {},
   "outputs": [
    {
     "data": {
      "image/png": "[encoded data removed]",
      "text/plain": [
       "<Figure size 432x288 with 1 Axes>"
      ]
     },
     "metadata": {
      "needs_background": "light"
     },
     "output_type": "display_data"
    },
    {
     "name": "stdout",
     "output_type": "stream",
     "text": [
      "a = 0.25\n",
      "b = 3.13\n",
      "xbeg = 0\n",
      "xend = 8\n",
      "N = 100\n"
     ]
    }
   ],
   "source": [
    "# set parameters\n",
    "a = 0.25\n",
    "b = 3.13\n",
    "xbeg = 0\n",
    "xend = 8\n",
    "N = 100\n",
    "\n",
    "# define another function of x\n",
    "def g(x):\n",
    "    y = math.exp(-a * x) * math.sin(b * x)\n",
    "    return y\n",
    "\n",
    "# create data\n",
    "dx = (xend - xbeg) / N\n",
    "\n",
    "xx = []\n",
    "yy = []\n",
    "\n",
    "for i in range(0, N + 1):\n",
    "    x = xbeg + i * dx\n",
    "    y = g(x)\n",
    "    \n",
    "    xx.append(x)\n",
    "    yy.append(y)\n",
    "\n",
    "# plot data\n",
    "plt.ion()\n",
    "fig, ax = plt.subplots()\n",
    "ax.set_xlabel(\"$x$\")\n",
    "ax.set_ylabel(\"$y$\")\n",
    "plt.plot(xx, yy)\n",
    "\n",
    "# draw horizontal line\n",
    "line = plt.Line2D((xbeg, xend), (0, 0), color='#aaa', lw=1, ls='dashed')\n",
    "plt.gca().add_line(line)\n",
    "line = plt.Line2D((xbeg, xend), (0.4, 0.4), color='#aaa', lw=1, ls='dashed')\n",
    "plt.gca().add_line(line)\n",
    "line = plt.Line2D((xbeg, xend), (0.8, 0.8), color='#aaa', lw=1, ls='dashed')\n",
    "plt.gca().add_line(line)\n",
    "line = plt.Line2D((xbeg, xend), (-0.4, -0.4), color='#aaa', lw=1, ls='dashed')\n",
    "plt.gca().add_line(line)\n",
    "\n",
    "# show plot result\n",
    "plt.show()\n",
    "\n",
    "# print parameters\n",
    "print(\"a = \", a, sep='')\n",
    "print(\"b = \", b, sep='')\n",
    "print(\"xbeg = \", xbeg, sep='')\n",
    "print(\"xend = \", xend, sep='')\n",
    "print(\"N = \", N, sep='')"
   ]
  },
  {
   "cell_type": "code",
   "execution_count": null,
   "id": "5d108248-ff44-48cf-971d-596e40526484",
   "metadata": {},
   "outputs": [],
   "source": []
  }
 ],
 "metadata": {
  "kernelspec": {
   "display_name": "Python 3 (ipykernel)",
   "language": "python",
   "name": "python3"
  },
  "language_info": {
   "codemirror_mode": {
    "name": "ipython",
    "version": 3
   },
   "file_extension": ".py",
   "mimetype": "text/x-python",
   "name": "python",
   "nbconvert_exporter": "python",
   "pygments_lexer": "ipython3",
   "version": "3.10.4"
  }
 },
 "nbformat": 4,
 "nbformat_minor": 5
}
