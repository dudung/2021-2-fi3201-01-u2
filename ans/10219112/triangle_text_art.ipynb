{
 "cells": [
  {
   "cell_type": "markdown",
   "id": "cca11c7c",
   "metadata": {},
   "source": [
    "# triangle_text_art\n",
    "Jalankan kode pada sel-sel di bawah ini sehingga identitas Anda tertampilkan dengan benar dan gambar segitiga dengan huruf-huruf dapat tertampilkan."
   ]
  },
  {
   "cell_type": "code",
   "execution_count": 1,
   "id": "4e2d555c",
   "metadata": {},
   "outputs": [
    {
     "name": "stdout",
     "output_type": "stream",
     "text": [
      "10219112 Hanz Hamzah Kusumah https://github.com/HanzHamzahK\n"
     ]
    }
   ],
   "source": [
    "from IPython.core.display import HTML\n",
    "HTML(\"<script>Jupyter.notebook.kernel.restart()</script>\")\n",
    "\n",
    "import sys, os\n",
    "sys.path.insert(1, os.path.join(sys.path[0], '../..'))\n",
    "\n",
    "from src.student import Students as stu\n",
    "nim = 10219112\n",
    "print(nim, end=' ')\n",
    "print(stu[nim]['name'], end=' ')\n",
    "print(\"https://github.com/\", stu[nim]['github'], sep='')"
   ]
  },
  {
   "cell_type": "markdown",
   "id": "c6b51783",
   "metadata": {},
   "source": [
    "Hasil yang diharapkan\n",
    "\n",
    "0123456789<br>\n",
    "012345678<br>\n",
    "01234567<br>\n",
    "0123456<br>\n",
    "012345<br>\n",
    "0123<br>\n",
    "012<br>\n",
    "01<br>\n",
    "0\n",
    "\n",
    "Untuk mendapatkan hasil seperti di atas, koreksi hanya **baris 1** kode berikut ini."
   ]
  },
  {
   "cell_type": "code",
   "execution_count": 2,
   "id": "73303aec",
   "metadata": {},
   "outputs": [
    {
     "name": "stdout",
     "output_type": "stream",
     "text": [
      "\n",
      "0\n",
      "01\n",
      "012\n",
      "0123\n",
      "01234\n",
      "012345\n",
      "0123456\n",
      "01234567\n",
      "012345678\n",
      "0123456789\n"
     ]
    }
   ],
   "source": [
    "for row in range(11):\n",
    "    for col in range(0, row):\n",
    "        print(col, end='')\n",
    "    print()"
   ]
  },
  {
   "cell_type": "markdown",
   "id": "f1a76fbe-7f32-4328-9f30-a6ec01a6787e",
   "metadata": {},
   "source": [
    "Koreksi dilakukan pada bagian \n",
    "```python\n",
    "in range (11):\n",
    "```\n",
    "menjadi \n",
    "```python\n",
    "in range (10,0,-1):\n",
    "```\n",
    "sehingga diperoleh hasil sebagai berikut"
   ]
  },
  {
   "cell_type": "code",
   "execution_count": 3,
   "id": "fd3a1941-3c45-4daf-af59-27bc1ce66179",
   "metadata": {},
   "outputs": [
    {
     "name": "stdout",
     "output_type": "stream",
     "text": [
      "0123456789\n",
      "012345678\n",
      "01234567\n",
      "0123456\n",
      "012345\n",
      "01234\n",
      "0123\n",
      "012\n",
      "01\n",
      "0\n"
     ]
    }
   ],
   "source": [
    "for row in range(10,0,-1):\n",
    "    for col in range(0, row):\n",
    "        print(col, end='')\n",
    "    print()"
   ]
  }
 ],
 "metadata": {
  "kernelspec": {
   "display_name": "Python 3 (ipykernel)",
   "language": "python",
   "name": "python3"
  },
  "language_info": {
   "codemirror_mode": {
    "name": "ipython",
    "version": 3
   },
   "file_extension": ".py",
   "mimetype": "text/x-python",
   "name": "python",
   "nbconvert_exporter": "python",
   "pygments_lexer": "ipython3",
   "version": "3.10.4"
  }
 },
 "nbformat": 4,
 "nbformat_minor": 5
}
